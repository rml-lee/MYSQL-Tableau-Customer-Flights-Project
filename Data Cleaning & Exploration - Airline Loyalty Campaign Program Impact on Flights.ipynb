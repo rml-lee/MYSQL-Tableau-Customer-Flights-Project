{
 "cells": [
  {
   "metadata": {},
   "cell_type": "markdown",
   "source": "# Data Cleaning & Exploration - Customer Loyalty History & Customer Flight Activity",
   "id": "df180727af71f976"
  },
  {
   "metadata": {},
   "cell_type": "markdown",
   "source": "# Import Libraries",
   "id": "dc9afd6f3431f0a0"
  },
  {
   "metadata": {
    "ExecuteTime": {
     "end_time": "2024-07-01T17:30:42.192967Z",
     "start_time": "2024-07-01T17:30:42.190492Z"
    }
   },
   "cell_type": "code",
   "source": [
    "# Import packages\n",
    "import pandas as pd\n",
    "import numpy as np\n",
    "import matplotlib.pyplot as plt\n",
    "import seaborn as sns"
   ],
   "id": "initial_id",
   "outputs": [],
   "execution_count": 175
  },
  {
   "metadata": {},
   "cell_type": "markdown",
   "source": "# Load Dataset",
   "id": "c0c384c3c4f3c097"
  },
  {
   "metadata": {
    "ExecuteTime": {
     "end_time": "2024-07-01T17:30:42.740406Z",
     "start_time": "2024-07-01T17:30:42.333261Z"
    }
   },
   "cell_type": "code",
   "source": [
    "# Read CSV file\n",
    "loyalty = pd.read_csv('/Users/raheem-gsu/DataGripProjects/MYSQL-Tableau-Customer-Flights-Project/Datasets/Airline Loyalty Campaign Program Impact on Flights/Customer Loyalty History.csv')\n",
    "\n",
    "activity = pd.read_csv('/Users/raheem-gsu/DataGripProjects/MYSQL-Tableau-Customer-Flights-Project/Datasets/Airline Loyalty Campaign Program Impact on Flights/Customer Flight Activity.csv')"
   ],
   "id": "7dfa7f4d24d667d2",
   "outputs": [],
   "execution_count": 176
  },
  {
   "metadata": {},
   "cell_type": "markdown",
   "source": "# Initial Data Inspection",
   "id": "b1e3ce53855afdff"
  },
  {
   "metadata": {
    "ExecuteTime": {
     "end_time": "2024-07-01T17:30:42.755347Z",
     "start_time": "2024-07-01T17:30:42.742613Z"
    }
   },
   "cell_type": "code",
   "source": [
    "# Display tables\n",
    "loyalty.head()"
   ],
   "id": "a5b26cb276939a59",
   "outputs": [
    {
     "data": {
      "text/plain": [
       "   loyalty_number country          province       city postal code  gender  \\\n",
       "0          480934  Canada           Ontario    Toronto     M2Z 4K1  Female   \n",
       "1          549612  Canada           Alberta   Edmonton     T3G 6Y6    Male   \n",
       "2          429460  Canada  British Columbia  Vancouver     V6E 3D9    Male   \n",
       "3          608370  Canada           Ontario    Toronto     P1W 1K4    Male   \n",
       "4          530508  Canada            Quebec       Hull     J8Y 3Z5    Male   \n",
       "\n",
       "  education    salary marital_status loyalty_card      clv enrollment_type  \\\n",
       "0  Bachelor   83236.0        Married         Star  3839.14        Standard   \n",
       "1   College       NaN       Divorced         Star  3839.61        Standard   \n",
       "2   College       NaN         Single         Star  3839.75        Standard   \n",
       "3   College       NaN         Single         Star  3839.75        Standard   \n",
       "4  Bachelor  103495.0        Married         Star  3842.79        Standard   \n",
       "\n",
       "   enrollment_year  enrollment_month  cancellation_year  cancellation_month  \n",
       "0             2016                 2                NaN                 NaN  \n",
       "1             2016                 3                NaN                 NaN  \n",
       "2             2014                 7             2018.0                 1.0  \n",
       "3             2013                 2                NaN                 NaN  \n",
       "4             2014                10                NaN                 NaN  "
      ],
      "text/html": [
       "<div>\n",
       "<style scoped>\n",
       "    .dataframe tbody tr th:only-of-type {\n",
       "        vertical-align: middle;\n",
       "    }\n",
       "\n",
       "    .dataframe tbody tr th {\n",
       "        vertical-align: top;\n",
       "    }\n",
       "\n",
       "    .dataframe thead th {\n",
       "        text-align: right;\n",
       "    }\n",
       "</style>\n",
       "<table border=\"1\" class=\"dataframe\">\n",
       "  <thead>\n",
       "    <tr style=\"text-align: right;\">\n",
       "      <th></th>\n",
       "      <th>loyalty_number</th>\n",
       "      <th>country</th>\n",
       "      <th>province</th>\n",
       "      <th>city</th>\n",
       "      <th>postal code</th>\n",
       "      <th>gender</th>\n",
       "      <th>education</th>\n",
       "      <th>salary</th>\n",
       "      <th>marital_status</th>\n",
       "      <th>loyalty_card</th>\n",
       "      <th>clv</th>\n",
       "      <th>enrollment_type</th>\n",
       "      <th>enrollment_year</th>\n",
       "      <th>enrollment_month</th>\n",
       "      <th>cancellation_year</th>\n",
       "      <th>cancellation_month</th>\n",
       "    </tr>\n",
       "  </thead>\n",
       "  <tbody>\n",
       "    <tr>\n",
       "      <th>0</th>\n",
       "      <td>480934</td>\n",
       "      <td>Canada</td>\n",
       "      <td>Ontario</td>\n",
       "      <td>Toronto</td>\n",
       "      <td>M2Z 4K1</td>\n",
       "      <td>Female</td>\n",
       "      <td>Bachelor</td>\n",
       "      <td>83236.0</td>\n",
       "      <td>Married</td>\n",
       "      <td>Star</td>\n",
       "      <td>3839.14</td>\n",
       "      <td>Standard</td>\n",
       "      <td>2016</td>\n",
       "      <td>2</td>\n",
       "      <td>NaN</td>\n",
       "      <td>NaN</td>\n",
       "    </tr>\n",
       "    <tr>\n",
       "      <th>1</th>\n",
       "      <td>549612</td>\n",
       "      <td>Canada</td>\n",
       "      <td>Alberta</td>\n",
       "      <td>Edmonton</td>\n",
       "      <td>T3G 6Y6</td>\n",
       "      <td>Male</td>\n",
       "      <td>College</td>\n",
       "      <td>NaN</td>\n",
       "      <td>Divorced</td>\n",
       "      <td>Star</td>\n",
       "      <td>3839.61</td>\n",
       "      <td>Standard</td>\n",
       "      <td>2016</td>\n",
       "      <td>3</td>\n",
       "      <td>NaN</td>\n",
       "      <td>NaN</td>\n",
       "    </tr>\n",
       "    <tr>\n",
       "      <th>2</th>\n",
       "      <td>429460</td>\n",
       "      <td>Canada</td>\n",
       "      <td>British Columbia</td>\n",
       "      <td>Vancouver</td>\n",
       "      <td>V6E 3D9</td>\n",
       "      <td>Male</td>\n",
       "      <td>College</td>\n",
       "      <td>NaN</td>\n",
       "      <td>Single</td>\n",
       "      <td>Star</td>\n",
       "      <td>3839.75</td>\n",
       "      <td>Standard</td>\n",
       "      <td>2014</td>\n",
       "      <td>7</td>\n",
       "      <td>2018.0</td>\n",
       "      <td>1.0</td>\n",
       "    </tr>\n",
       "    <tr>\n",
       "      <th>3</th>\n",
       "      <td>608370</td>\n",
       "      <td>Canada</td>\n",
       "      <td>Ontario</td>\n",
       "      <td>Toronto</td>\n",
       "      <td>P1W 1K4</td>\n",
       "      <td>Male</td>\n",
       "      <td>College</td>\n",
       "      <td>NaN</td>\n",
       "      <td>Single</td>\n",
       "      <td>Star</td>\n",
       "      <td>3839.75</td>\n",
       "      <td>Standard</td>\n",
       "      <td>2013</td>\n",
       "      <td>2</td>\n",
       "      <td>NaN</td>\n",
       "      <td>NaN</td>\n",
       "    </tr>\n",
       "    <tr>\n",
       "      <th>4</th>\n",
       "      <td>530508</td>\n",
       "      <td>Canada</td>\n",
       "      <td>Quebec</td>\n",
       "      <td>Hull</td>\n",
       "      <td>J8Y 3Z5</td>\n",
       "      <td>Male</td>\n",
       "      <td>Bachelor</td>\n",
       "      <td>103495.0</td>\n",
       "      <td>Married</td>\n",
       "      <td>Star</td>\n",
       "      <td>3842.79</td>\n",
       "      <td>Standard</td>\n",
       "      <td>2014</td>\n",
       "      <td>10</td>\n",
       "      <td>NaN</td>\n",
       "      <td>NaN</td>\n",
       "    </tr>\n",
       "  </tbody>\n",
       "</table>\n",
       "</div>"
      ]
     },
     "execution_count": 177,
     "metadata": {},
     "output_type": "execute_result"
    }
   ],
   "execution_count": 177
  },
  {
   "metadata": {
    "ExecuteTime": {
     "end_time": "2024-07-01T17:30:42.767345Z",
     "start_time": "2024-07-01T17:30:42.756794Z"
    }
   },
   "cell_type": "code",
   "source": "activity.head()",
   "id": "16b853fe8eb79610",
   "outputs": [
    {
     "data": {
      "text/plain": [
       "   loyalty_number  year  month  flights_booked  flights_with_companions  \\\n",
       "0          100018  2017      1               3                        0   \n",
       "1          100102  2017      1              10                        4   \n",
       "2          100140  2017      1               6                        0   \n",
       "3          100214  2017      1               0                        0   \n",
       "4          100272  2017      1               0                        0   \n",
       "\n",
       "   total_flights  distance  points_accumulated  points_redeemed  \\\n",
       "0              3      1521               152.0                0   \n",
       "1             14      2030               203.0                0   \n",
       "2              6      1200               120.0                0   \n",
       "3              0         0                 0.0                0   \n",
       "4              0         0                 0.0                0   \n",
       "\n",
       "   dollar_cost_points_redeemed  \n",
       "0                            0  \n",
       "1                            0  \n",
       "2                            0  \n",
       "3                            0  \n",
       "4                            0  "
      ],
      "text/html": [
       "<div>\n",
       "<style scoped>\n",
       "    .dataframe tbody tr th:only-of-type {\n",
       "        vertical-align: middle;\n",
       "    }\n",
       "\n",
       "    .dataframe tbody tr th {\n",
       "        vertical-align: top;\n",
       "    }\n",
       "\n",
       "    .dataframe thead th {\n",
       "        text-align: right;\n",
       "    }\n",
       "</style>\n",
       "<table border=\"1\" class=\"dataframe\">\n",
       "  <thead>\n",
       "    <tr style=\"text-align: right;\">\n",
       "      <th></th>\n",
       "      <th>loyalty_number</th>\n",
       "      <th>year</th>\n",
       "      <th>month</th>\n",
       "      <th>flights_booked</th>\n",
       "      <th>flights_with_companions</th>\n",
       "      <th>total_flights</th>\n",
       "      <th>distance</th>\n",
       "      <th>points_accumulated</th>\n",
       "      <th>points_redeemed</th>\n",
       "      <th>dollar_cost_points_redeemed</th>\n",
       "    </tr>\n",
       "  </thead>\n",
       "  <tbody>\n",
       "    <tr>\n",
       "      <th>0</th>\n",
       "      <td>100018</td>\n",
       "      <td>2017</td>\n",
       "      <td>1</td>\n",
       "      <td>3</td>\n",
       "      <td>0</td>\n",
       "      <td>3</td>\n",
       "      <td>1521</td>\n",
       "      <td>152.0</td>\n",
       "      <td>0</td>\n",
       "      <td>0</td>\n",
       "    </tr>\n",
       "    <tr>\n",
       "      <th>1</th>\n",
       "      <td>100102</td>\n",
       "      <td>2017</td>\n",
       "      <td>1</td>\n",
       "      <td>10</td>\n",
       "      <td>4</td>\n",
       "      <td>14</td>\n",
       "      <td>2030</td>\n",
       "      <td>203.0</td>\n",
       "      <td>0</td>\n",
       "      <td>0</td>\n",
       "    </tr>\n",
       "    <tr>\n",
       "      <th>2</th>\n",
       "      <td>100140</td>\n",
       "      <td>2017</td>\n",
       "      <td>1</td>\n",
       "      <td>6</td>\n",
       "      <td>0</td>\n",
       "      <td>6</td>\n",
       "      <td>1200</td>\n",
       "      <td>120.0</td>\n",
       "      <td>0</td>\n",
       "      <td>0</td>\n",
       "    </tr>\n",
       "    <tr>\n",
       "      <th>3</th>\n",
       "      <td>100214</td>\n",
       "      <td>2017</td>\n",
       "      <td>1</td>\n",
       "      <td>0</td>\n",
       "      <td>0</td>\n",
       "      <td>0</td>\n",
       "      <td>0</td>\n",
       "      <td>0.0</td>\n",
       "      <td>0</td>\n",
       "      <td>0</td>\n",
       "    </tr>\n",
       "    <tr>\n",
       "      <th>4</th>\n",
       "      <td>100272</td>\n",
       "      <td>2017</td>\n",
       "      <td>1</td>\n",
       "      <td>0</td>\n",
       "      <td>0</td>\n",
       "      <td>0</td>\n",
       "      <td>0</td>\n",
       "      <td>0.0</td>\n",
       "      <td>0</td>\n",
       "      <td>0</td>\n",
       "    </tr>\n",
       "  </tbody>\n",
       "</table>\n",
       "</div>"
      ]
     },
     "execution_count": 178,
     "metadata": {},
     "output_type": "execute_result"
    }
   ],
   "execution_count": 178
  },
  {
   "metadata": {
    "ExecuteTime": {
     "end_time": "2024-07-01T17:30:42.792780Z",
     "start_time": "2024-07-01T17:30:42.770228Z"
    }
   },
   "cell_type": "code",
   "source": [
    "# Table information\n",
    "loyalty.info()"
   ],
   "id": "557ef0c5b49be323",
   "outputs": [
    {
     "name": "stdout",
     "output_type": "stream",
     "text": [
      "<class 'pandas.core.frame.DataFrame'>\n",
      "RangeIndex: 16737 entries, 0 to 16736\n",
      "Data columns (total 16 columns):\n",
      " #   Column              Non-Null Count  Dtype  \n",
      "---  ------              --------------  -----  \n",
      " 0   loyalty_number      16737 non-null  int64  \n",
      " 1   country             16737 non-null  object \n",
      " 2   province            16737 non-null  object \n",
      " 3   city                16737 non-null  object \n",
      " 4   postal code         16737 non-null  object \n",
      " 5   gender              16737 non-null  object \n",
      " 6   education           16737 non-null  object \n",
      " 7   salary              12499 non-null  float64\n",
      " 8   marital_status      16737 non-null  object \n",
      " 9   loyalty_card        16737 non-null  object \n",
      " 10  clv                 16737 non-null  float64\n",
      " 11  enrollment_type     16737 non-null  object \n",
      " 12  enrollment_year     16737 non-null  int64  \n",
      " 13  enrollment_month    16737 non-null  int64  \n",
      " 14  cancellation_year   2067 non-null   float64\n",
      " 15  cancellation_month  2067 non-null   float64\n",
      "dtypes: float64(4), int64(3), object(9)\n",
      "memory usage: 2.0+ MB\n"
     ]
    }
   ],
   "execution_count": 179
  },
  {
   "metadata": {
    "ExecuteTime": {
     "end_time": "2024-07-01T17:30:42.811065Z",
     "start_time": "2024-07-01T17:30:42.794650Z"
    }
   },
   "cell_type": "code",
   "source": "activity.info()",
   "id": "fde6eed95b3b5294",
   "outputs": [
    {
     "name": "stdout",
     "output_type": "stream",
     "text": [
      "<class 'pandas.core.frame.DataFrame'>\n",
      "RangeIndex: 405624 entries, 0 to 405623\n",
      "Data columns (total 10 columns):\n",
      " #   Column                       Non-Null Count   Dtype  \n",
      "---  ------                       --------------   -----  \n",
      " 0   loyalty_number               405624 non-null  int64  \n",
      " 1   year                         405624 non-null  int64  \n",
      " 2   month                        405624 non-null  int64  \n",
      " 3   flights_booked               405624 non-null  int64  \n",
      " 4   flights_with_companions      405624 non-null  int64  \n",
      " 5   total_flights                405624 non-null  int64  \n",
      " 6   distance                     405624 non-null  int64  \n",
      " 7   points_accumulated           405624 non-null  float64\n",
      " 8   points_redeemed              405624 non-null  int64  \n",
      " 9   dollar_cost_points_redeemed  405624 non-null  int64  \n",
      "dtypes: float64(1), int64(9)\n",
      "memory usage: 30.9 MB\n"
     ]
    }
   ],
   "execution_count": 180
  },
  {
   "metadata": {},
   "cell_type": "markdown",
   "source": "# Descriptive Statistics",
   "id": "56ab254bc8261731"
  },
  {
   "metadata": {
    "ExecuteTime": {
     "end_time": "2024-07-01T17:30:42.835461Z",
     "start_time": "2024-07-01T17:30:42.812571Z"
    }
   },
   "cell_type": "code",
   "source": [
    "# Summary statistics\n",
    "loyalty.describe()"
   ],
   "id": "e9b1a005d1fef337",
   "outputs": [
    {
     "data": {
      "text/plain": [
       "       loyalty_number         salary           clv  enrollment_year  \\\n",
       "count    16737.000000   12499.000000  16737.000000     16737.000000   \n",
       "mean    549735.880445   79245.609409   7988.896536      2015.253211   \n",
       "std     258912.132453   35008.297285   6860.982280         1.979111   \n",
       "min     100018.000000  -58486.000000   1898.010000      2012.000000   \n",
       "25%     326603.000000   59246.500000   3980.840000      2014.000000   \n",
       "50%     550434.000000   73455.000000   5780.180000      2015.000000   \n",
       "75%     772019.000000   88517.500000   8940.580000      2017.000000   \n",
       "max     999986.000000  407228.000000  83325.380000      2018.000000   \n",
       "\n",
       "       enrollment_month  cancellation_year  cancellation_month  \n",
       "count      16737.000000        2067.000000         2067.000000  \n",
       "mean           6.669116        2016.503145            6.962748  \n",
       "std            3.398958           1.380743            3.455297  \n",
       "min            1.000000        2013.000000            1.000000  \n",
       "25%            4.000000        2016.000000            4.000000  \n",
       "50%            7.000000        2017.000000            7.000000  \n",
       "75%           10.000000        2018.000000           10.000000  \n",
       "max           12.000000        2018.000000           12.000000  "
      ],
      "text/html": [
       "<div>\n",
       "<style scoped>\n",
       "    .dataframe tbody tr th:only-of-type {\n",
       "        vertical-align: middle;\n",
       "    }\n",
       "\n",
       "    .dataframe tbody tr th {\n",
       "        vertical-align: top;\n",
       "    }\n",
       "\n",
       "    .dataframe thead th {\n",
       "        text-align: right;\n",
       "    }\n",
       "</style>\n",
       "<table border=\"1\" class=\"dataframe\">\n",
       "  <thead>\n",
       "    <tr style=\"text-align: right;\">\n",
       "      <th></th>\n",
       "      <th>loyalty_number</th>\n",
       "      <th>salary</th>\n",
       "      <th>clv</th>\n",
       "      <th>enrollment_year</th>\n",
       "      <th>enrollment_month</th>\n",
       "      <th>cancellation_year</th>\n",
       "      <th>cancellation_month</th>\n",
       "    </tr>\n",
       "  </thead>\n",
       "  <tbody>\n",
       "    <tr>\n",
       "      <th>count</th>\n",
       "      <td>16737.000000</td>\n",
       "      <td>12499.000000</td>\n",
       "      <td>16737.000000</td>\n",
       "      <td>16737.000000</td>\n",
       "      <td>16737.000000</td>\n",
       "      <td>2067.000000</td>\n",
       "      <td>2067.000000</td>\n",
       "    </tr>\n",
       "    <tr>\n",
       "      <th>mean</th>\n",
       "      <td>549735.880445</td>\n",
       "      <td>79245.609409</td>\n",
       "      <td>7988.896536</td>\n",
       "      <td>2015.253211</td>\n",
       "      <td>6.669116</td>\n",
       "      <td>2016.503145</td>\n",
       "      <td>6.962748</td>\n",
       "    </tr>\n",
       "    <tr>\n",
       "      <th>std</th>\n",
       "      <td>258912.132453</td>\n",
       "      <td>35008.297285</td>\n",
       "      <td>6860.982280</td>\n",
       "      <td>1.979111</td>\n",
       "      <td>3.398958</td>\n",
       "      <td>1.380743</td>\n",
       "      <td>3.455297</td>\n",
       "    </tr>\n",
       "    <tr>\n",
       "      <th>min</th>\n",
       "      <td>100018.000000</td>\n",
       "      <td>-58486.000000</td>\n",
       "      <td>1898.010000</td>\n",
       "      <td>2012.000000</td>\n",
       "      <td>1.000000</td>\n",
       "      <td>2013.000000</td>\n",
       "      <td>1.000000</td>\n",
       "    </tr>\n",
       "    <tr>\n",
       "      <th>25%</th>\n",
       "      <td>326603.000000</td>\n",
       "      <td>59246.500000</td>\n",
       "      <td>3980.840000</td>\n",
       "      <td>2014.000000</td>\n",
       "      <td>4.000000</td>\n",
       "      <td>2016.000000</td>\n",
       "      <td>4.000000</td>\n",
       "    </tr>\n",
       "    <tr>\n",
       "      <th>50%</th>\n",
       "      <td>550434.000000</td>\n",
       "      <td>73455.000000</td>\n",
       "      <td>5780.180000</td>\n",
       "      <td>2015.000000</td>\n",
       "      <td>7.000000</td>\n",
       "      <td>2017.000000</td>\n",
       "      <td>7.000000</td>\n",
       "    </tr>\n",
       "    <tr>\n",
       "      <th>75%</th>\n",
       "      <td>772019.000000</td>\n",
       "      <td>88517.500000</td>\n",
       "      <td>8940.580000</td>\n",
       "      <td>2017.000000</td>\n",
       "      <td>10.000000</td>\n",
       "      <td>2018.000000</td>\n",
       "      <td>10.000000</td>\n",
       "    </tr>\n",
       "    <tr>\n",
       "      <th>max</th>\n",
       "      <td>999986.000000</td>\n",
       "      <td>407228.000000</td>\n",
       "      <td>83325.380000</td>\n",
       "      <td>2018.000000</td>\n",
       "      <td>12.000000</td>\n",
       "      <td>2018.000000</td>\n",
       "      <td>12.000000</td>\n",
       "    </tr>\n",
       "  </tbody>\n",
       "</table>\n",
       "</div>"
      ]
     },
     "execution_count": 181,
     "metadata": {},
     "output_type": "execute_result"
    }
   ],
   "execution_count": 181
  },
  {
   "metadata": {},
   "cell_type": "markdown",
   "source": "Year range: 2012 - 2018",
   "id": "36f9ac1141f7d4f8"
  },
  {
   "metadata": {
    "ExecuteTime": {
     "end_time": "2024-07-01T17:30:42.969184Z",
     "start_time": "2024-07-01T17:30:42.837107Z"
    }
   },
   "cell_type": "code",
   "source": "activity.describe().T",
   "id": "a7643dcb2a02a1bd",
   "outputs": [
    {
     "data": {
      "text/plain": [
       "                                count           mean            std       min  \\\n",
       "loyalty_number               405624.0  550037.873084  258935.286969  100018.0   \n",
       "year                         405624.0    2017.500000       0.500001    2017.0   \n",
       "month                        405624.0       6.500000       3.452057       1.0   \n",
       "flights_booked               405624.0       4.115052       5.225518       0.0   \n",
       "flights_with_companions      405624.0       1.031805       2.076869       0.0   \n",
       "total_flights                405624.0       5.146858       6.521227       0.0   \n",
       "distance                     405624.0    1208.880059    1433.155320       0.0   \n",
       "points_accumulated           405624.0     123.692721     146.599831       0.0   \n",
       "points_redeemed              405624.0      30.696872     125.486049       0.0   \n",
       "dollar_cost_points_redeemed  405624.0       2.484503      10.150038       0.0   \n",
       "\n",
       "                                   25%       50%        75%       max  \n",
       "loyalty_number               326961.00  550834.0  772194.00  999986.0  \n",
       "year                           2017.00    2017.5    2018.00    2018.0  \n",
       "month                             3.75       6.5       9.25      12.0  \n",
       "flights_booked                    0.00       1.0       8.00      21.0  \n",
       "flights_with_companions           0.00       0.0       1.00      11.0  \n",
       "total_flights                     0.00       1.0      10.00      32.0  \n",
       "distance                          0.00     488.0    2336.00    6293.0  \n",
       "points_accumulated                0.00      50.0     239.00     676.5  \n",
       "points_redeemed                   0.00       0.0       0.00     876.0  \n",
       "dollar_cost_points_redeemed       0.00       0.0       0.00      71.0  "
      ],
      "text/html": [
       "<div>\n",
       "<style scoped>\n",
       "    .dataframe tbody tr th:only-of-type {\n",
       "        vertical-align: middle;\n",
       "    }\n",
       "\n",
       "    .dataframe tbody tr th {\n",
       "        vertical-align: top;\n",
       "    }\n",
       "\n",
       "    .dataframe thead th {\n",
       "        text-align: right;\n",
       "    }\n",
       "</style>\n",
       "<table border=\"1\" class=\"dataframe\">\n",
       "  <thead>\n",
       "    <tr style=\"text-align: right;\">\n",
       "      <th></th>\n",
       "      <th>count</th>\n",
       "      <th>mean</th>\n",
       "      <th>std</th>\n",
       "      <th>min</th>\n",
       "      <th>25%</th>\n",
       "      <th>50%</th>\n",
       "      <th>75%</th>\n",
       "      <th>max</th>\n",
       "    </tr>\n",
       "  </thead>\n",
       "  <tbody>\n",
       "    <tr>\n",
       "      <th>loyalty_number</th>\n",
       "      <td>405624.0</td>\n",
       "      <td>550037.873084</td>\n",
       "      <td>258935.286969</td>\n",
       "      <td>100018.0</td>\n",
       "      <td>326961.00</td>\n",
       "      <td>550834.0</td>\n",
       "      <td>772194.00</td>\n",
       "      <td>999986.0</td>\n",
       "    </tr>\n",
       "    <tr>\n",
       "      <th>year</th>\n",
       "      <td>405624.0</td>\n",
       "      <td>2017.500000</td>\n",
       "      <td>0.500001</td>\n",
       "      <td>2017.0</td>\n",
       "      <td>2017.00</td>\n",
       "      <td>2017.5</td>\n",
       "      <td>2018.00</td>\n",
       "      <td>2018.0</td>\n",
       "    </tr>\n",
       "    <tr>\n",
       "      <th>month</th>\n",
       "      <td>405624.0</td>\n",
       "      <td>6.500000</td>\n",
       "      <td>3.452057</td>\n",
       "      <td>1.0</td>\n",
       "      <td>3.75</td>\n",
       "      <td>6.5</td>\n",
       "      <td>9.25</td>\n",
       "      <td>12.0</td>\n",
       "    </tr>\n",
       "    <tr>\n",
       "      <th>flights_booked</th>\n",
       "      <td>405624.0</td>\n",
       "      <td>4.115052</td>\n",
       "      <td>5.225518</td>\n",
       "      <td>0.0</td>\n",
       "      <td>0.00</td>\n",
       "      <td>1.0</td>\n",
       "      <td>8.00</td>\n",
       "      <td>21.0</td>\n",
       "    </tr>\n",
       "    <tr>\n",
       "      <th>flights_with_companions</th>\n",
       "      <td>405624.0</td>\n",
       "      <td>1.031805</td>\n",
       "      <td>2.076869</td>\n",
       "      <td>0.0</td>\n",
       "      <td>0.00</td>\n",
       "      <td>0.0</td>\n",
       "      <td>1.00</td>\n",
       "      <td>11.0</td>\n",
       "    </tr>\n",
       "    <tr>\n",
       "      <th>total_flights</th>\n",
       "      <td>405624.0</td>\n",
       "      <td>5.146858</td>\n",
       "      <td>6.521227</td>\n",
       "      <td>0.0</td>\n",
       "      <td>0.00</td>\n",
       "      <td>1.0</td>\n",
       "      <td>10.00</td>\n",
       "      <td>32.0</td>\n",
       "    </tr>\n",
       "    <tr>\n",
       "      <th>distance</th>\n",
       "      <td>405624.0</td>\n",
       "      <td>1208.880059</td>\n",
       "      <td>1433.155320</td>\n",
       "      <td>0.0</td>\n",
       "      <td>0.00</td>\n",
       "      <td>488.0</td>\n",
       "      <td>2336.00</td>\n",
       "      <td>6293.0</td>\n",
       "    </tr>\n",
       "    <tr>\n",
       "      <th>points_accumulated</th>\n",
       "      <td>405624.0</td>\n",
       "      <td>123.692721</td>\n",
       "      <td>146.599831</td>\n",
       "      <td>0.0</td>\n",
       "      <td>0.00</td>\n",
       "      <td>50.0</td>\n",
       "      <td>239.00</td>\n",
       "      <td>676.5</td>\n",
       "    </tr>\n",
       "    <tr>\n",
       "      <th>points_redeemed</th>\n",
       "      <td>405624.0</td>\n",
       "      <td>30.696872</td>\n",
       "      <td>125.486049</td>\n",
       "      <td>0.0</td>\n",
       "      <td>0.00</td>\n",
       "      <td>0.0</td>\n",
       "      <td>0.00</td>\n",
       "      <td>876.0</td>\n",
       "    </tr>\n",
       "    <tr>\n",
       "      <th>dollar_cost_points_redeemed</th>\n",
       "      <td>405624.0</td>\n",
       "      <td>2.484503</td>\n",
       "      <td>10.150038</td>\n",
       "      <td>0.0</td>\n",
       "      <td>0.00</td>\n",
       "      <td>0.0</td>\n",
       "      <td>0.00</td>\n",
       "      <td>71.0</td>\n",
       "    </tr>\n",
       "  </tbody>\n",
       "</table>\n",
       "</div>"
      ]
     },
     "execution_count": 182,
     "metadata": {},
     "output_type": "execute_result"
    }
   ],
   "execution_count": 182
  },
  {
   "metadata": {},
   "cell_type": "markdown",
   "source": "Year Range: 2017 - 2018",
   "id": "db8aa28f1e868be2"
  },
  {
   "metadata": {},
   "cell_type": "markdown",
   "source": "# Handling Missing Values",
   "id": "f5667fa6fc051c8e"
  },
  {
   "metadata": {
    "ExecuteTime": {
     "end_time": "2024-07-01T17:30:42.981257Z",
     "start_time": "2024-07-01T17:30:42.970564Z"
    }
   },
   "cell_type": "code",
   "source": [
    "# Total missing values from each field\n",
    "loyalty.isnull().sum()"
   ],
   "id": "9e6528b4c71d17f1",
   "outputs": [
    {
     "data": {
      "text/plain": [
       "loyalty_number            0\n",
       "country                   0\n",
       "province                  0\n",
       "city                      0\n",
       "postal code               0\n",
       "gender                    0\n",
       "education                 0\n",
       "salary                 4238\n",
       "marital_status            0\n",
       "loyalty_card              0\n",
       "clv                       0\n",
       "enrollment_type           0\n",
       "enrollment_year           0\n",
       "enrollment_month          0\n",
       "cancellation_year     14670\n",
       "cancellation_month    14670\n",
       "dtype: int64"
      ]
     },
     "execution_count": 183,
     "metadata": {},
     "output_type": "execute_result"
    }
   ],
   "execution_count": 183
  },
  {
   "metadata": {
    "ExecuteTime": {
     "end_time": "2024-07-01T17:30:42.988882Z",
     "start_time": "2024-07-01T17:30:42.982617Z"
    }
   },
   "cell_type": "code",
   "source": "activity.isnull().sum()",
   "id": "68d3ac24d9be6f4c",
   "outputs": [
    {
     "data": {
      "text/plain": [
       "loyalty_number                 0\n",
       "year                           0\n",
       "month                          0\n",
       "flights_booked                 0\n",
       "flights_with_companions        0\n",
       "total_flights                  0\n",
       "distance                       0\n",
       "points_accumulated             0\n",
       "points_redeemed                0\n",
       "dollar_cost_points_redeemed    0\n",
       "dtype: int64"
      ]
     },
     "execution_count": 184,
     "metadata": {},
     "output_type": "execute_result"
    }
   ],
   "execution_count": 184
  },
  {
   "metadata": {},
   "cell_type": "markdown",
   "source": "# Data Cleaning",
   "id": "64c754d880eddebf"
  },
  {
   "metadata": {},
   "cell_type": "markdown",
   "source": "## Customer Loyalty History",
   "id": "afd1232daf22c570"
  },
  {
   "metadata": {
    "ExecuteTime": {
     "end_time": "2024-07-01T17:30:43.015596Z",
     "start_time": "2024-07-01T17:30:42.994473Z"
    }
   },
   "cell_type": "code",
   "source": [
    "# Original row amount: 16737\n",
    "\n",
    "# Drop duplicates\n",
    "loyalty.drop_duplicates(inplace=True)\n",
    "loyalty.shape"
   ],
   "id": "5e0eb8b6a046d6bb",
   "outputs": [
    {
     "data": {
      "text/plain": [
       "(16737, 16)"
      ]
     },
     "execution_count": 185,
     "metadata": {},
     "output_type": "execute_result"
    }
   ],
   "execution_count": 185
  },
  {
   "metadata": {
    "ExecuteTime": {
     "end_time": "2024-07-01T17:30:43.022817Z",
     "start_time": "2024-07-01T17:30:43.016978Z"
    }
   },
   "cell_type": "code",
   "source": [
    "# Check enrollment and cancellation data types \n",
    "loyalty[['enrollment_year', 'enrollment_month', 'cancellation_year', 'cancellation_month']].dtypes"
   ],
   "id": "47c0eb9222220135",
   "outputs": [
    {
     "data": {
      "text/plain": [
       "enrollment_year         int64\n",
       "enrollment_month        int64\n",
       "cancellation_year     float64\n",
       "cancellation_month    float64\n",
       "dtype: object"
      ]
     },
     "execution_count": 186,
     "metadata": {},
     "output_type": "execute_result"
    }
   ],
   "execution_count": 186
  },
  {
   "metadata": {
    "ExecuteTime": {
     "end_time": "2024-07-01T17:30:43.053686Z",
     "start_time": "2024-07-01T17:30:43.024366Z"
    }
   },
   "cell_type": "code",
   "source": [
    "# Combine enrollment_year and enrollment_month into a new DATE field named 'enrollment_date'\n",
    "loyalty['enrollment_date'] = pd.to_datetime(loyalty['enrollment_year'].astype(str) + '-' + loyalty['enrollment_month'].astype(str) + '-01')\n",
    "loyalty[['enrollment_year', 'enrollment_month', 'enrollment_date']]"
   ],
   "id": "7e20561c518e5e18",
   "outputs": [
    {
     "data": {
      "text/plain": [
       "       enrollment_year  enrollment_month enrollment_date\n",
       "0                 2016                 2      2016-02-01\n",
       "1                 2016                 3      2016-03-01\n",
       "2                 2014                 7      2014-07-01\n",
       "3                 2013                 2      2013-02-01\n",
       "4                 2014                10      2014-10-01\n",
       "...                ...               ...             ...\n",
       "16732             2012                12      2012-12-01\n",
       "16733             2014                 9      2014-09-01\n",
       "16734             2014                 3      2014-03-01\n",
       "16735             2018                 4      2018-04-01\n",
       "16736             2015                12      2015-12-01\n",
       "\n",
       "[16737 rows x 3 columns]"
      ],
      "text/html": [
       "<div>\n",
       "<style scoped>\n",
       "    .dataframe tbody tr th:only-of-type {\n",
       "        vertical-align: middle;\n",
       "    }\n",
       "\n",
       "    .dataframe tbody tr th {\n",
       "        vertical-align: top;\n",
       "    }\n",
       "\n",
       "    .dataframe thead th {\n",
       "        text-align: right;\n",
       "    }\n",
       "</style>\n",
       "<table border=\"1\" class=\"dataframe\">\n",
       "  <thead>\n",
       "    <tr style=\"text-align: right;\">\n",
       "      <th></th>\n",
       "      <th>enrollment_year</th>\n",
       "      <th>enrollment_month</th>\n",
       "      <th>enrollment_date</th>\n",
       "    </tr>\n",
       "  </thead>\n",
       "  <tbody>\n",
       "    <tr>\n",
       "      <th>0</th>\n",
       "      <td>2016</td>\n",
       "      <td>2</td>\n",
       "      <td>2016-02-01</td>\n",
       "    </tr>\n",
       "    <tr>\n",
       "      <th>1</th>\n",
       "      <td>2016</td>\n",
       "      <td>3</td>\n",
       "      <td>2016-03-01</td>\n",
       "    </tr>\n",
       "    <tr>\n",
       "      <th>2</th>\n",
       "      <td>2014</td>\n",
       "      <td>7</td>\n",
       "      <td>2014-07-01</td>\n",
       "    </tr>\n",
       "    <tr>\n",
       "      <th>3</th>\n",
       "      <td>2013</td>\n",
       "      <td>2</td>\n",
       "      <td>2013-02-01</td>\n",
       "    </tr>\n",
       "    <tr>\n",
       "      <th>4</th>\n",
       "      <td>2014</td>\n",
       "      <td>10</td>\n",
       "      <td>2014-10-01</td>\n",
       "    </tr>\n",
       "    <tr>\n",
       "      <th>...</th>\n",
       "      <td>...</td>\n",
       "      <td>...</td>\n",
       "      <td>...</td>\n",
       "    </tr>\n",
       "    <tr>\n",
       "      <th>16732</th>\n",
       "      <td>2012</td>\n",
       "      <td>12</td>\n",
       "      <td>2012-12-01</td>\n",
       "    </tr>\n",
       "    <tr>\n",
       "      <th>16733</th>\n",
       "      <td>2014</td>\n",
       "      <td>9</td>\n",
       "      <td>2014-09-01</td>\n",
       "    </tr>\n",
       "    <tr>\n",
       "      <th>16734</th>\n",
       "      <td>2014</td>\n",
       "      <td>3</td>\n",
       "      <td>2014-03-01</td>\n",
       "    </tr>\n",
       "    <tr>\n",
       "      <th>16735</th>\n",
       "      <td>2018</td>\n",
       "      <td>4</td>\n",
       "      <td>2018-04-01</td>\n",
       "    </tr>\n",
       "    <tr>\n",
       "      <th>16736</th>\n",
       "      <td>2015</td>\n",
       "      <td>12</td>\n",
       "      <td>2015-12-01</td>\n",
       "    </tr>\n",
       "  </tbody>\n",
       "</table>\n",
       "<p>16737 rows × 3 columns</p>\n",
       "</div>"
      ]
     },
     "execution_count": 187,
     "metadata": {},
     "output_type": "execute_result"
    }
   ],
   "execution_count": 187
  },
  {
   "metadata": {
    "ExecuteTime": {
     "end_time": "2024-07-01T17:30:43.060788Z",
     "start_time": "2024-07-01T17:30:43.055169Z"
    }
   },
   "cell_type": "code",
   "source": [
    "# Drop enrollment_year and enrollment_month\n",
    "loyalty.drop(columns = ['enrollment_year', 'enrollment_month'], inplace = True)"
   ],
   "id": "c506f62912baeed0",
   "outputs": [],
   "execution_count": 188
  },
  {
   "metadata": {
    "ExecuteTime": {
     "end_time": "2024-07-01T17:30:43.085403Z",
     "start_time": "2024-07-01T17:30:43.062200Z"
    }
   },
   "cell_type": "code",
   "source": [
    "# Convert cancellation_year and cancellation_month to object (string)\n",
    "loyalty['cancellation_year'] = loyalty['cancellation_year'].astype(str)\n",
    "loyalty['cancellation_month'] = loyalty['cancellation_month'].astype(str)\n",
    "loyalty[['cancellation_year', 'cancellation_month']]"
   ],
   "id": "d15835fe5b6983e",
   "outputs": [
    {
     "data": {
      "text/plain": [
       "      cancellation_year cancellation_month\n",
       "0                   nan                nan\n",
       "1                   nan                nan\n",
       "2                2018.0                1.0\n",
       "3                   nan                nan\n",
       "4                   nan                nan\n",
       "...                 ...                ...\n",
       "16732               nan                nan\n",
       "16733               nan                nan\n",
       "16734               nan                nan\n",
       "16735               nan                nan\n",
       "16736            2016.0                8.0\n",
       "\n",
       "[16737 rows x 2 columns]"
      ],
      "text/html": [
       "<div>\n",
       "<style scoped>\n",
       "    .dataframe tbody tr th:only-of-type {\n",
       "        vertical-align: middle;\n",
       "    }\n",
       "\n",
       "    .dataframe tbody tr th {\n",
       "        vertical-align: top;\n",
       "    }\n",
       "\n",
       "    .dataframe thead th {\n",
       "        text-align: right;\n",
       "    }\n",
       "</style>\n",
       "<table border=\"1\" class=\"dataframe\">\n",
       "  <thead>\n",
       "    <tr style=\"text-align: right;\">\n",
       "      <th></th>\n",
       "      <th>cancellation_year</th>\n",
       "      <th>cancellation_month</th>\n",
       "    </tr>\n",
       "  </thead>\n",
       "  <tbody>\n",
       "    <tr>\n",
       "      <th>0</th>\n",
       "      <td>nan</td>\n",
       "      <td>nan</td>\n",
       "    </tr>\n",
       "    <tr>\n",
       "      <th>1</th>\n",
       "      <td>nan</td>\n",
       "      <td>nan</td>\n",
       "    </tr>\n",
       "    <tr>\n",
       "      <th>2</th>\n",
       "      <td>2018.0</td>\n",
       "      <td>1.0</td>\n",
       "    </tr>\n",
       "    <tr>\n",
       "      <th>3</th>\n",
       "      <td>nan</td>\n",
       "      <td>nan</td>\n",
       "    </tr>\n",
       "    <tr>\n",
       "      <th>4</th>\n",
       "      <td>nan</td>\n",
       "      <td>nan</td>\n",
       "    </tr>\n",
       "    <tr>\n",
       "      <th>...</th>\n",
       "      <td>...</td>\n",
       "      <td>...</td>\n",
       "    </tr>\n",
       "    <tr>\n",
       "      <th>16732</th>\n",
       "      <td>nan</td>\n",
       "      <td>nan</td>\n",
       "    </tr>\n",
       "    <tr>\n",
       "      <th>16733</th>\n",
       "      <td>nan</td>\n",
       "      <td>nan</td>\n",
       "    </tr>\n",
       "    <tr>\n",
       "      <th>16734</th>\n",
       "      <td>nan</td>\n",
       "      <td>nan</td>\n",
       "    </tr>\n",
       "    <tr>\n",
       "      <th>16735</th>\n",
       "      <td>nan</td>\n",
       "      <td>nan</td>\n",
       "    </tr>\n",
       "    <tr>\n",
       "      <th>16736</th>\n",
       "      <td>2016.0</td>\n",
       "      <td>8.0</td>\n",
       "    </tr>\n",
       "  </tbody>\n",
       "</table>\n",
       "<p>16737 rows × 2 columns</p>\n",
       "</div>"
      ]
     },
     "execution_count": 189,
     "metadata": {},
     "output_type": "execute_result"
    }
   ],
   "execution_count": 189
  },
  {
   "metadata": {
    "ExecuteTime": {
     "end_time": "2024-07-01T17:30:43.101856Z",
     "start_time": "2024-07-01T17:30:43.086862Z"
    }
   },
   "cell_type": "code",
   "source": [
    "# Remove decimal point from years\n",
    "loyalty['cancellation_year'] = loyalty['cancellation_year'].str.replace('.0', '')\n",
    "loyalty['cancellation_month'] = loyalty['cancellation_month'].str.replace('.0', '')\n",
    "loyalty[['cancellation_year', 'cancellation_month']]"
   ],
   "id": "23fbf04d01c8ff55",
   "outputs": [
    {
     "data": {
      "text/plain": [
       "      cancellation_year cancellation_month\n",
       "0                   nan                nan\n",
       "1                   nan                nan\n",
       "2                  2018                  1\n",
       "3                   nan                nan\n",
       "4                   nan                nan\n",
       "...                 ...                ...\n",
       "16732               nan                nan\n",
       "16733               nan                nan\n",
       "16734               nan                nan\n",
       "16735               nan                nan\n",
       "16736              2016                  8\n",
       "\n",
       "[16737 rows x 2 columns]"
      ],
      "text/html": [
       "<div>\n",
       "<style scoped>\n",
       "    .dataframe tbody tr th:only-of-type {\n",
       "        vertical-align: middle;\n",
       "    }\n",
       "\n",
       "    .dataframe tbody tr th {\n",
       "        vertical-align: top;\n",
       "    }\n",
       "\n",
       "    .dataframe thead th {\n",
       "        text-align: right;\n",
       "    }\n",
       "</style>\n",
       "<table border=\"1\" class=\"dataframe\">\n",
       "  <thead>\n",
       "    <tr style=\"text-align: right;\">\n",
       "      <th></th>\n",
       "      <th>cancellation_year</th>\n",
       "      <th>cancellation_month</th>\n",
       "    </tr>\n",
       "  </thead>\n",
       "  <tbody>\n",
       "    <tr>\n",
       "      <th>0</th>\n",
       "      <td>nan</td>\n",
       "      <td>nan</td>\n",
       "    </tr>\n",
       "    <tr>\n",
       "      <th>1</th>\n",
       "      <td>nan</td>\n",
       "      <td>nan</td>\n",
       "    </tr>\n",
       "    <tr>\n",
       "      <th>2</th>\n",
       "      <td>2018</td>\n",
       "      <td>1</td>\n",
       "    </tr>\n",
       "    <tr>\n",
       "      <th>3</th>\n",
       "      <td>nan</td>\n",
       "      <td>nan</td>\n",
       "    </tr>\n",
       "    <tr>\n",
       "      <th>4</th>\n",
       "      <td>nan</td>\n",
       "      <td>nan</td>\n",
       "    </tr>\n",
       "    <tr>\n",
       "      <th>...</th>\n",
       "      <td>...</td>\n",
       "      <td>...</td>\n",
       "    </tr>\n",
       "    <tr>\n",
       "      <th>16732</th>\n",
       "      <td>nan</td>\n",
       "      <td>nan</td>\n",
       "    </tr>\n",
       "    <tr>\n",
       "      <th>16733</th>\n",
       "      <td>nan</td>\n",
       "      <td>nan</td>\n",
       "    </tr>\n",
       "    <tr>\n",
       "      <th>16734</th>\n",
       "      <td>nan</td>\n",
       "      <td>nan</td>\n",
       "    </tr>\n",
       "    <tr>\n",
       "      <th>16735</th>\n",
       "      <td>nan</td>\n",
       "      <td>nan</td>\n",
       "    </tr>\n",
       "    <tr>\n",
       "      <th>16736</th>\n",
       "      <td>2016</td>\n",
       "      <td>8</td>\n",
       "    </tr>\n",
       "  </tbody>\n",
       "</table>\n",
       "<p>16737 rows × 2 columns</p>\n",
       "</div>"
      ]
     },
     "execution_count": 190,
     "metadata": {},
     "output_type": "execute_result"
    }
   ],
   "execution_count": 190
  },
  {
   "metadata": {
    "ExecuteTime": {
     "end_time": "2024-07-01T17:30:43.119201Z",
     "start_time": "2024-07-01T17:30:43.104180Z"
    }
   },
   "cell_type": "code",
   "source": [
    "# Convert 'nan' to object NULL value None\n",
    "loyalty['cancellation_year'] = loyalty['cancellation_year'].apply(lambda x: None if x == 'nan' else x)\n",
    "loyalty['cancellation_month'] = loyalty['cancellation_month'].apply(lambda x: None if x == 'nan' else x)\n",
    "loyalty[['cancellation_year', 'cancellation_month']]"
   ],
   "id": "b475384a1fea815b",
   "outputs": [
    {
     "data": {
      "text/plain": [
       "      cancellation_year cancellation_month\n",
       "0                  None               None\n",
       "1                  None               None\n",
       "2                  2018                  1\n",
       "3                  None               None\n",
       "4                  None               None\n",
       "...                 ...                ...\n",
       "16732              None               None\n",
       "16733              None               None\n",
       "16734              None               None\n",
       "16735              None               None\n",
       "16736              2016                  8\n",
       "\n",
       "[16737 rows x 2 columns]"
      ],
      "text/html": [
       "<div>\n",
       "<style scoped>\n",
       "    .dataframe tbody tr th:only-of-type {\n",
       "        vertical-align: middle;\n",
       "    }\n",
       "\n",
       "    .dataframe tbody tr th {\n",
       "        vertical-align: top;\n",
       "    }\n",
       "\n",
       "    .dataframe thead th {\n",
       "        text-align: right;\n",
       "    }\n",
       "</style>\n",
       "<table border=\"1\" class=\"dataframe\">\n",
       "  <thead>\n",
       "    <tr style=\"text-align: right;\">\n",
       "      <th></th>\n",
       "      <th>cancellation_year</th>\n",
       "      <th>cancellation_month</th>\n",
       "    </tr>\n",
       "  </thead>\n",
       "  <tbody>\n",
       "    <tr>\n",
       "      <th>0</th>\n",
       "      <td>None</td>\n",
       "      <td>None</td>\n",
       "    </tr>\n",
       "    <tr>\n",
       "      <th>1</th>\n",
       "      <td>None</td>\n",
       "      <td>None</td>\n",
       "    </tr>\n",
       "    <tr>\n",
       "      <th>2</th>\n",
       "      <td>2018</td>\n",
       "      <td>1</td>\n",
       "    </tr>\n",
       "    <tr>\n",
       "      <th>3</th>\n",
       "      <td>None</td>\n",
       "      <td>None</td>\n",
       "    </tr>\n",
       "    <tr>\n",
       "      <th>4</th>\n",
       "      <td>None</td>\n",
       "      <td>None</td>\n",
       "    </tr>\n",
       "    <tr>\n",
       "      <th>...</th>\n",
       "      <td>...</td>\n",
       "      <td>...</td>\n",
       "    </tr>\n",
       "    <tr>\n",
       "      <th>16732</th>\n",
       "      <td>None</td>\n",
       "      <td>None</td>\n",
       "    </tr>\n",
       "    <tr>\n",
       "      <th>16733</th>\n",
       "      <td>None</td>\n",
       "      <td>None</td>\n",
       "    </tr>\n",
       "    <tr>\n",
       "      <th>16734</th>\n",
       "      <td>None</td>\n",
       "      <td>None</td>\n",
       "    </tr>\n",
       "    <tr>\n",
       "      <th>16735</th>\n",
       "      <td>None</td>\n",
       "      <td>None</td>\n",
       "    </tr>\n",
       "    <tr>\n",
       "      <th>16736</th>\n",
       "      <td>2016</td>\n",
       "      <td>8</td>\n",
       "    </tr>\n",
       "  </tbody>\n",
       "</table>\n",
       "<p>16737 rows × 2 columns</p>\n",
       "</div>"
      ]
     },
     "execution_count": 191,
     "metadata": {},
     "output_type": "execute_result"
    }
   ],
   "execution_count": 191
  },
  {
   "metadata": {
    "ExecuteTime": {
     "end_time": "2024-07-01T17:30:43.134859Z",
     "start_time": "2024-07-01T17:30:43.120579Z"
    }
   },
   "cell_type": "code",
   "source": [
    "# Combine cancellation_year and cancellation_month into a new DATE field named 'cancellation_date'\n",
    "loyalty['cancellation_date'] = pd.to_datetime(loyalty['cancellation_year'] + '-' + loyalty['cancellation_month'] + '-01', errors='coerce')\n",
    "loyalty[['cancellation_year', 'cancellation_month', 'cancellation_date']]"
   ],
   "id": "87f1b290543d17ee",
   "outputs": [
    {
     "data": {
      "text/plain": [
       "      cancellation_year cancellation_month cancellation_date\n",
       "0                  None               None               NaT\n",
       "1                  None               None               NaT\n",
       "2                  2018                  1        2018-01-01\n",
       "3                  None               None               NaT\n",
       "4                  None               None               NaT\n",
       "...                 ...                ...               ...\n",
       "16732              None               None               NaT\n",
       "16733              None               None               NaT\n",
       "16734              None               None               NaT\n",
       "16735              None               None               NaT\n",
       "16736              2016                  8        2016-08-01\n",
       "\n",
       "[16737 rows x 3 columns]"
      ],
      "text/html": [
       "<div>\n",
       "<style scoped>\n",
       "    .dataframe tbody tr th:only-of-type {\n",
       "        vertical-align: middle;\n",
       "    }\n",
       "\n",
       "    .dataframe tbody tr th {\n",
       "        vertical-align: top;\n",
       "    }\n",
       "\n",
       "    .dataframe thead th {\n",
       "        text-align: right;\n",
       "    }\n",
       "</style>\n",
       "<table border=\"1\" class=\"dataframe\">\n",
       "  <thead>\n",
       "    <tr style=\"text-align: right;\">\n",
       "      <th></th>\n",
       "      <th>cancellation_year</th>\n",
       "      <th>cancellation_month</th>\n",
       "      <th>cancellation_date</th>\n",
       "    </tr>\n",
       "  </thead>\n",
       "  <tbody>\n",
       "    <tr>\n",
       "      <th>0</th>\n",
       "      <td>None</td>\n",
       "      <td>None</td>\n",
       "      <td>NaT</td>\n",
       "    </tr>\n",
       "    <tr>\n",
       "      <th>1</th>\n",
       "      <td>None</td>\n",
       "      <td>None</td>\n",
       "      <td>NaT</td>\n",
       "    </tr>\n",
       "    <tr>\n",
       "      <th>2</th>\n",
       "      <td>2018</td>\n",
       "      <td>1</td>\n",
       "      <td>2018-01-01</td>\n",
       "    </tr>\n",
       "    <tr>\n",
       "      <th>3</th>\n",
       "      <td>None</td>\n",
       "      <td>None</td>\n",
       "      <td>NaT</td>\n",
       "    </tr>\n",
       "    <tr>\n",
       "      <th>4</th>\n",
       "      <td>None</td>\n",
       "      <td>None</td>\n",
       "      <td>NaT</td>\n",
       "    </tr>\n",
       "    <tr>\n",
       "      <th>...</th>\n",
       "      <td>...</td>\n",
       "      <td>...</td>\n",
       "      <td>...</td>\n",
       "    </tr>\n",
       "    <tr>\n",
       "      <th>16732</th>\n",
       "      <td>None</td>\n",
       "      <td>None</td>\n",
       "      <td>NaT</td>\n",
       "    </tr>\n",
       "    <tr>\n",
       "      <th>16733</th>\n",
       "      <td>None</td>\n",
       "      <td>None</td>\n",
       "      <td>NaT</td>\n",
       "    </tr>\n",
       "    <tr>\n",
       "      <th>16734</th>\n",
       "      <td>None</td>\n",
       "      <td>None</td>\n",
       "      <td>NaT</td>\n",
       "    </tr>\n",
       "    <tr>\n",
       "      <th>16735</th>\n",
       "      <td>None</td>\n",
       "      <td>None</td>\n",
       "      <td>NaT</td>\n",
       "    </tr>\n",
       "    <tr>\n",
       "      <th>16736</th>\n",
       "      <td>2016</td>\n",
       "      <td>8</td>\n",
       "      <td>2016-08-01</td>\n",
       "    </tr>\n",
       "  </tbody>\n",
       "</table>\n",
       "<p>16737 rows × 3 columns</p>\n",
       "</div>"
      ]
     },
     "execution_count": 192,
     "metadata": {},
     "output_type": "execute_result"
    }
   ],
   "execution_count": 192
  },
  {
   "metadata": {
    "ExecuteTime": {
     "end_time": "2024-07-01T17:30:43.141936Z",
     "start_time": "2024-07-01T17:30:43.136853Z"
    }
   },
   "cell_type": "code",
   "source": [
    "# Drop cancellation_year and cancellation_month\n",
    "loyalty.drop(columns = ['cancellation_year', 'cancellation_month'], inplace = True)"
   ],
   "id": "75a4d238754b5c96",
   "outputs": [],
   "execution_count": 193
  },
  {
   "metadata": {
    "ExecuteTime": {
     "end_time": "2024-07-01T17:30:43.155431Z",
     "start_time": "2024-07-01T17:30:43.143577Z"
    }
   },
   "cell_type": "code",
   "source": [
    "# Verify new fields - enrollment_date & cancellation_date\n",
    "loyalty.info()"
   ],
   "id": "ed2a5988dc5fd9aa",
   "outputs": [
    {
     "name": "stdout",
     "output_type": "stream",
     "text": [
      "<class 'pandas.core.frame.DataFrame'>\n",
      "RangeIndex: 16737 entries, 0 to 16736\n",
      "Data columns (total 14 columns):\n",
      " #   Column             Non-Null Count  Dtype         \n",
      "---  ------             --------------  -----         \n",
      " 0   loyalty_number     16737 non-null  int64         \n",
      " 1   country            16737 non-null  object        \n",
      " 2   province           16737 non-null  object        \n",
      " 3   city               16737 non-null  object        \n",
      " 4   postal code        16737 non-null  object        \n",
      " 5   gender             16737 non-null  object        \n",
      " 6   education          16737 non-null  object        \n",
      " 7   salary             12499 non-null  float64       \n",
      " 8   marital_status     16737 non-null  object        \n",
      " 9   loyalty_card       16737 non-null  object        \n",
      " 10  clv                16737 non-null  float64       \n",
      " 11  enrollment_type    16737 non-null  object        \n",
      " 12  enrollment_date    16737 non-null  datetime64[ns]\n",
      " 13  cancellation_date  2067 non-null   datetime64[ns]\n",
      "dtypes: datetime64[ns](2), float64(2), int64(1), object(9)\n",
      "memory usage: 1.8+ MB\n"
     ]
    }
   ],
   "execution_count": 194
  },
  {
   "metadata": {},
   "cell_type": "markdown",
   "source": "## Customer Flight Activity",
   "id": "db56ae1cc43c9e50"
  },
  {
   "metadata": {
    "ExecuteTime": {
     "end_time": "2024-07-01T17:30:43.298050Z",
     "start_time": "2024-07-01T17:30:43.157517Z"
    }
   },
   "cell_type": "code",
   "source": [
    "# Original row amount: 405624\n",
    "\n",
    "# Drop duplicates\n",
    "activity.drop_duplicates(inplace=True)\n",
    "activity.shape"
   ],
   "id": "1ad940ad07eec0e4",
   "outputs": [
    {
     "data": {
      "text/plain": [
       "(403760, 10)"
      ]
     },
     "execution_count": 195,
     "metadata": {},
     "output_type": "execute_result"
    }
   ],
   "execution_count": 195
  },
  {
   "metadata": {
    "ExecuteTime": {
     "end_time": "2024-07-01T17:30:43.683163Z",
     "start_time": "2024-07-01T17:30:43.299764Z"
    }
   },
   "cell_type": "code",
   "source": [
    "# Create a new DATE column called 'date' that combines the year and month fields\n",
    "activity['date'] = pd.to_datetime(activity['year'].astype(str) + '-' + activity['month'].astype(str) + '-01')"
   ],
   "id": "d3d189caca542686",
   "outputs": [],
   "execution_count": 196
  },
  {
   "metadata": {
    "ExecuteTime": {
     "end_time": "2024-07-01T17:30:43.698354Z",
     "start_time": "2024-07-01T17:30:43.685445Z"
    }
   },
   "cell_type": "code",
   "source": [
    "# Verify changes\n",
    "activity[['year', 'month', 'date']]"
   ],
   "id": "41ea32248232864f",
   "outputs": [
    {
     "data": {
      "text/plain": [
       "        year  month       date\n",
       "0       2017      1 2017-01-01\n",
       "1       2017      1 2017-01-01\n",
       "2       2017      1 2017-01-01\n",
       "3       2017      1 2017-01-01\n",
       "4       2017      1 2017-01-01\n",
       "...      ...    ...        ...\n",
       "405619  2018     12 2018-12-01\n",
       "405620  2018     12 2018-12-01\n",
       "405621  2018     12 2018-12-01\n",
       "405622  2018     12 2018-12-01\n",
       "405623  2018     12 2018-12-01\n",
       "\n",
       "[403760 rows x 3 columns]"
      ],
      "text/html": [
       "<div>\n",
       "<style scoped>\n",
       "    .dataframe tbody tr th:only-of-type {\n",
       "        vertical-align: middle;\n",
       "    }\n",
       "\n",
       "    .dataframe tbody tr th {\n",
       "        vertical-align: top;\n",
       "    }\n",
       "\n",
       "    .dataframe thead th {\n",
       "        text-align: right;\n",
       "    }\n",
       "</style>\n",
       "<table border=\"1\" class=\"dataframe\">\n",
       "  <thead>\n",
       "    <tr style=\"text-align: right;\">\n",
       "      <th></th>\n",
       "      <th>year</th>\n",
       "      <th>month</th>\n",
       "      <th>date</th>\n",
       "    </tr>\n",
       "  </thead>\n",
       "  <tbody>\n",
       "    <tr>\n",
       "      <th>0</th>\n",
       "      <td>2017</td>\n",
       "      <td>1</td>\n",
       "      <td>2017-01-01</td>\n",
       "    </tr>\n",
       "    <tr>\n",
       "      <th>1</th>\n",
       "      <td>2017</td>\n",
       "      <td>1</td>\n",
       "      <td>2017-01-01</td>\n",
       "    </tr>\n",
       "    <tr>\n",
       "      <th>2</th>\n",
       "      <td>2017</td>\n",
       "      <td>1</td>\n",
       "      <td>2017-01-01</td>\n",
       "    </tr>\n",
       "    <tr>\n",
       "      <th>3</th>\n",
       "      <td>2017</td>\n",
       "      <td>1</td>\n",
       "      <td>2017-01-01</td>\n",
       "    </tr>\n",
       "    <tr>\n",
       "      <th>4</th>\n",
       "      <td>2017</td>\n",
       "      <td>1</td>\n",
       "      <td>2017-01-01</td>\n",
       "    </tr>\n",
       "    <tr>\n",
       "      <th>...</th>\n",
       "      <td>...</td>\n",
       "      <td>...</td>\n",
       "      <td>...</td>\n",
       "    </tr>\n",
       "    <tr>\n",
       "      <th>405619</th>\n",
       "      <td>2018</td>\n",
       "      <td>12</td>\n",
       "      <td>2018-12-01</td>\n",
       "    </tr>\n",
       "    <tr>\n",
       "      <th>405620</th>\n",
       "      <td>2018</td>\n",
       "      <td>12</td>\n",
       "      <td>2018-12-01</td>\n",
       "    </tr>\n",
       "    <tr>\n",
       "      <th>405621</th>\n",
       "      <td>2018</td>\n",
       "      <td>12</td>\n",
       "      <td>2018-12-01</td>\n",
       "    </tr>\n",
       "    <tr>\n",
       "      <th>405622</th>\n",
       "      <td>2018</td>\n",
       "      <td>12</td>\n",
       "      <td>2018-12-01</td>\n",
       "    </tr>\n",
       "    <tr>\n",
       "      <th>405623</th>\n",
       "      <td>2018</td>\n",
       "      <td>12</td>\n",
       "      <td>2018-12-01</td>\n",
       "    </tr>\n",
       "  </tbody>\n",
       "</table>\n",
       "<p>403760 rows × 3 columns</p>\n",
       "</div>"
      ]
     },
     "execution_count": 197,
     "metadata": {},
     "output_type": "execute_result"
    }
   ],
   "execution_count": 197
  },
  {
   "metadata": {
    "ExecuteTime": {
     "end_time": "2024-07-01T17:30:43.722860Z",
     "start_time": "2024-07-01T17:30:43.699891Z"
    }
   },
   "cell_type": "code",
   "source": [
    "# Drop year and month columns\n",
    "activity.drop(columns = ['year', 'month'], inplace = True)"
   ],
   "id": "e0536aed8cfdf2fb",
   "outputs": [],
   "execution_count": 198
  },
  {
   "metadata": {
    "ExecuteTime": {
     "end_time": "2024-07-01T17:30:43.735629Z",
     "start_time": "2024-07-01T17:30:43.724471Z"
    }
   },
   "cell_type": "code",
   "source": [
    "# Verify changes\n",
    "activity.info()"
   ],
   "id": "d9a2f2b10782f272",
   "outputs": [
    {
     "name": "stdout",
     "output_type": "stream",
     "text": [
      "<class 'pandas.core.frame.DataFrame'>\n",
      "Index: 403760 entries, 0 to 405623\n",
      "Data columns (total 9 columns):\n",
      " #   Column                       Non-Null Count   Dtype         \n",
      "---  ------                       --------------   -----         \n",
      " 0   loyalty_number               403760 non-null  int64         \n",
      " 1   flights_booked               403760 non-null  int64         \n",
      " 2   flights_with_companions      403760 non-null  int64         \n",
      " 3   total_flights                403760 non-null  int64         \n",
      " 4   distance                     403760 non-null  int64         \n",
      " 5   points_accumulated           403760 non-null  float64       \n",
      " 6   points_redeemed              403760 non-null  int64         \n",
      " 7   dollar_cost_points_redeemed  403760 non-null  int64         \n",
      " 8   date                         403760 non-null  datetime64[ns]\n",
      "dtypes: datetime64[ns](1), float64(1), int64(7)\n",
      "memory usage: 30.8 MB\n"
     ]
    }
   ],
   "execution_count": 199
  },
  {
   "metadata": {},
   "cell_type": "markdown",
   "source": "# Exploratory Data Analysis (EDA)",
   "id": "57f79817e3e8b89"
  },
  {
   "metadata": {},
   "cell_type": "markdown",
   "source": "## What are the enrollment types?",
   "id": "d1eb7eb356ef9a3a"
  },
  {
   "metadata": {
    "ExecuteTime": {
     "end_time": "2024-07-01T17:30:43.743970Z",
     "start_time": "2024-07-01T17:30:43.737595Z"
    }
   },
   "cell_type": "code",
   "source": [
    "# List of enrollment types\n",
    "loyalty['enrollment_type'].drop_duplicates()"
   ],
   "id": "2e0618a4c74bff01",
   "outputs": [
    {
     "data": {
      "text/plain": [
       "0           Standard\n",
       "18    2018 Promotion\n",
       "Name: enrollment_type, dtype: object"
      ]
     },
     "execution_count": 200,
     "metadata": {},
     "output_type": "execute_result"
    }
   ],
   "execution_count": 200
  },
  {
   "metadata": {},
   "cell_type": "markdown",
   "source": "The promotion occurred during the year of 2018.",
   "id": "cfc4f4de43882d54"
  },
  {
   "metadata": {},
   "cell_type": "markdown",
   "source": "## How long did the promotion last during 2018?",
   "id": "821ff498a495ee17"
  },
  {
   "metadata": {
    "ExecuteTime": {
     "end_time": "2024-07-01T17:30:43.754983Z",
     "start_time": "2024-07-01T17:30:43.745679Z"
    }
   },
   "cell_type": "code",
   "source": [
    "# 2018 Promotion Date Range (in months)\n",
    "promotion_dates = loyalty.loc[loyalty['enrollment_type'] == '2018 Promotion', ['enrollment_date']].drop_duplicates()\n",
    "promotion_dates['enrollment_date'].dt.month"
   ],
   "id": "5208ea56199e5fb8",
   "outputs": [
    {
     "data": {
      "text/plain": [
       "18    3\n",
       "36    4\n",
       "69    2\n",
       "Name: enrollment_date, dtype: int32"
      ]
     },
     "execution_count": 201,
     "metadata": {},
     "output_type": "execute_result"
    }
   ],
   "execution_count": 201
  },
  {
   "metadata": {},
   "cell_type": "markdown",
   "source": "The promotion lasted from February to April",
   "id": "60d7e06a9ebf2bdc"
  },
  {
   "metadata": {},
   "cell_type": "markdown",
   "source": "## Salary Range",
   "id": "1a5c75d62f3b1e15"
  },
  {
   "metadata": {
    "ExecuteTime": {
     "end_time": "2024-07-01T17:30:43.761347Z",
     "start_time": "2024-07-01T17:30:43.756821Z"
    }
   },
   "cell_type": "code",
   "source": [
    "# Calculating Range (Max - Min)\n",
    "407228.000000 - -58486.000000"
   ],
   "id": "26dce714aa3056e",
   "outputs": [
    {
     "data": {
      "text/plain": [
       "465714.0"
      ]
     },
     "execution_count": 202,
     "metadata": {},
     "output_type": "execute_result"
    }
   ],
   "execution_count": 202
  },
  {
   "metadata": {
    "ExecuteTime": {
     "end_time": "2024-07-01T17:30:43.771599Z",
     "start_time": "2024-07-01T17:30:43.767970Z"
    }
   },
   "cell_type": "code",
   "source": [
    "# Bin Number\n",
    "465714 / 18"
   ],
   "id": "4662c10f0636cde2",
   "outputs": [
    {
     "data": {
      "text/plain": [
       "25873.0"
      ]
     },
     "execution_count": 203,
     "metadata": {},
     "output_type": "execute_result"
    }
   ],
   "execution_count": 203
  },
  {
   "metadata": {
    "ExecuteTime": {
     "end_time": "2024-07-01T17:30:43.962169Z",
     "start_time": "2024-07-01T17:30:43.772986Z"
    }
   },
   "cell_type": "code",
   "source": [
    "# Histogram for a numerical column \n",
    "# 18 for bins\n",
    "# We use histogram to check for range and outliers\n",
    "sns.histplot(loyalty['salary'], bins=18)\n",
    "plt.show()"
   ],
   "id": "a261e7a7826b7670",
   "outputs": [
    {
     "data": {
      "text/plain": [
       "<Figure size 640x480 with 1 Axes>"
      ],
      "image/png": "[encoded data removed]"
     },
     "metadata": {},
     "output_type": "display_data"
    }
   ],
   "execution_count": 204
  },
  {
   "metadata": {},
   "cell_type": "markdown",
   "source": "# Export Cleaned Dataset",
   "id": "ea9f5495b96f38a3"
  },
  {
   "metadata": {
    "ExecuteTime": {
     "end_time": "2024-06-22T19:37:18.862928Z",
     "start_time": "2024-06-22T19:37:17.623247Z"
    }
   },
   "cell_type": "code",
   "source": [
    "# Export Datasets to CSV\n",
    "loyalty.to_csv('customer_loyalty_history (cleaned).csv', index=False)\n",
    "activity.to_csv('customer_flight_activity (cleaned).csv', index=False)"
   ],
   "id": "90c34b042ef2ea44",
   "outputs": [],
   "execution_count": 80
  }
 ],
 "metadata": {
  "kernelspec": {
   "display_name": "Python 3",
   "language": "python",
   "name": "python3"
  },
  "language_info": {
   "codemirror_mode": {
    "name": "ipython",
    "version": 2
   },
   "file_extension": ".py",
   "mimetype": "text/x-python",
   "name": "python",
   "nbconvert_exporter": "python",
   "pygments_lexer": "ipython2",
   "version": "2.7.6"
  }
 },
 "nbformat": 4,
 "nbformat_minor": 5
}
